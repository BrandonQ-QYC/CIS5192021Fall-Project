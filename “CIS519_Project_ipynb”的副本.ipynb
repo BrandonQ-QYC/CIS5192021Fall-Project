{
  "nbformat": 4,
  "nbformat_minor": 0,
  "metadata": {
    "colab": {
      "name": "“CIS519 Project.ipynb”的副本",
      "provenance": [],
      "toc_visible": true
    },
    "kernelspec": {
      "display_name": "Python 3",
      "name": "python3"
    },
    "language_info": {
      "name": "python"
    }
  },
  "cells": [
    {
      "cell_type": "markdown",
      "metadata": {
        "id": "cjWWnVRTc2iG"
      },
      "source": [
        "## Forecasting Exchange Rate Between US Dollars to Chinese Yuan with Machine Learning\n"
      ]
    },
    {
      "cell_type": "code",
      "metadata": {
        "id": "HuR5Mo4WdAZ5"
      },
      "source": [
        "import pandas as pd\n",
        "import numpy as np\n",
        "import sklearn\n",
        "from matplotlib import pyplot\n",
        "import matplotlib.pyplot as plt\n",
        "from datetime import timedelta"
      ],
      "execution_count": null,
      "outputs": []
    },
    {
      "cell_type": "markdown",
      "metadata": {
        "id": "Q7PhD1Q2-03b"
      },
      "source": [
        "##Preprocessing "
      ]
    },
    {
      "cell_type": "code",
      "metadata": {
        "id": "4Utqeih1-QV2"
      },
      "source": [
        "df = pd.read_csv('exchange-rate.csv')\n",
        "#change the columns name \"date\" to \"ds\", \"rate\" to \"y\" in order to meeting the need of Prophet\n",
        "df = df.rename({'date': 'ds', 'rate': 'y'}, axis=1)\n",
        "df['ds'] = pd.to_datetime(df['ds'])"
      ],
      "execution_count": null,
      "outputs": []
    },
    {
      "cell_type": "code",
      "metadata": {
        "colab": {
          "base_uri": "https://localhost:8080/",
          "height": 49
        },
        "id": "NAD83lXgBVfV",
        "outputId": "a76dda5a-fe05-4a9d-dfef-1d5fdc502138"
      },
      "source": [
        "# find the possilbe null value\n",
        "df[df.isnull().T.any()]\n",
        "# there is no null data"
      ],
      "execution_count": null,
      "outputs": [
        {
          "output_type": "execute_result",
          "data": {
            "text/html": [
              "<div>\n",
              "<style scoped>\n",
              "    .dataframe tbody tr th:only-of-type {\n",
              "        vertical-align: middle;\n",
              "    }\n",
              "\n",
              "    .dataframe tbody tr th {\n",
              "        vertical-align: top;\n",
              "    }\n",
              "\n",
              "    .dataframe thead th {\n",
              "        text-align: right;\n",
              "    }\n",
              "</style>\n",
              "<table border=\"1\" class=\"dataframe\">\n",
              "  <thead>\n",
              "    <tr style=\"text-align: right;\">\n",
              "      <th></th>\n",
              "      <th>ds</th>\n",
              "      <th>y</th>\n",
              "    </tr>\n",
              "  </thead>\n",
              "  <tbody>\n",
              "  </tbody>\n",
              "</table>\n",
              "</div>"
            ],
            "text/plain": [
              "Empty DataFrame\n",
              "Columns: [ds, y]\n",
              "Index: []"
            ]
          },
          "metadata": {},
          "execution_count": 15
        }
      ]
    },
    {
      "cell_type": "code",
      "metadata": {
        "colab": {
          "base_uri": "https://localhost:8080/"
        },
        "id": "RAK2L2afZ_ae",
        "outputId": "f2000801-9a70-4e53-d2ba-7d1c948c3539"
      },
      "source": [
        "# Split into training, validation and test datasets.\n",
        "# Since it's timeseries we should do it by date.\n",
        "test_cutoff_date = df['ds'].max() - timedelta(days=60)\n",
        "val_cutoff_date = test_cutoff_date - timedelta(days=365)\n",
        "\n",
        "df_test = df[df['ds'] > test_cutoff_date]\n",
        "df_val = df[(df['ds'] > val_cutoff_date) & (df['ds'] <= test_cutoff_date)]\n",
        "df_train = df[df['ds'] <= val_cutoff_date]\n",
        "\n",
        "#check out the datasets\n",
        "print('Test dates: {} to {}'.format(df_test['ds'].min(), df_test['ds'].max()))\n",
        "print('Validation dates: {} to {}'.format(df_val['ds'].min(), df_val['ds'].max()))\n",
        "print('Train dates: {} to {}'.format(df_train['ds'].min(), df_train['ds'].max()))\n",
        "\n"
      ],
      "execution_count": null,
      "outputs": [
        {
          "output_type": "stream",
          "name": "stdout",
          "text": [
            "Test dates: 2021-08-03 00:00:00 to 2021-10-01 00:00:00\n",
            "Validation dates: 2020-08-03 00:00:00 to 2021-08-02 00:00:00\n",
            "Train dates: 1981-01-02 00:00:00 to 2020-08-01 00:00:00\n"
          ]
        }
      ]
    },
    {
      "cell_type": "markdown",
      "metadata": {
        "id": "QSg_HGO93ccd"
      },
      "source": [
        "## Prophet prediction"
      ]
    },
    {
      "cell_type": "code",
      "metadata": {
        "colab": {
          "base_uri": "https://localhost:8080/",
          "height": 565
        },
        "id": "kiT9tJp17X3-",
        "outputId": "c1f317b2-5ee0-492d-f25f-ee76ae803174"
      },
      "source": [
        "from fbprophet import Prophet\n",
        "def Prophet_Prediction(df_train):\n",
        "  prophet_model = Prophet()\n",
        "  prophet_model.fit(df_train)\n",
        "  prophet_future = prophet_model.make_future_dataframe(periods=312)\n",
        "  # get the prophet predict data\n",
        "  prophet_predict = prophet_model.predict(prophet_future)\n",
        "  #  plot to show \n",
        "  fig = prophet_model.plot(prophet_predict)\n",
        "  ax = fig.add_subplot(111)\n",
        "  ax.plot(df['ds'].astype('datetime64'), df['y'], 'k.')\n",
        "  return prophet_predict\n",
        "prophet_predict = Prophet_Prediction(df_train)"
      ],
      "execution_count": null,
      "outputs": [
        {
          "output_type": "stream",
          "name": "stderr",
          "text": [
            "INFO:numexpr.utils:NumExpr defaulting to 2 threads.\n",
            "INFO:fbprophet:Disabling daily seasonality. Run prophet with daily_seasonality=True to override this.\n",
            "/usr/local/lib/python3.7/dist-packages/ipykernel_launcher.py:10: MatplotlibDeprecationWarning:\n",
            "\n",
            "Adding an axes using the same arguments as a previous axes currently reuses the earlier instance.  In a future version, a new instance will always be created and returned.  Meanwhile, this warning can be suppressed, and the future behavior ensured, by passing a unique label to each axes instance.\n",
            "\n"
          ]
        },
        {
          "output_type": "display_data",
          "data": {
            "image/png": "[encoded data removed]",
            "text/plain": [
              "<Figure size 720x432 with 1 Axes>"
            ]
          },
          "metadata": {}
        }
      ]
    },
    {
      "cell_type": "code",
      "metadata": {
        "colab": {
          "base_uri": "https://localhost:8080/"
        },
        "id": "6Ro3mgBG2Oy6",
        "outputId": "bc4465cb-48a8-44df-ba68-4977c4b5c97f"
      },
      "source": [
        "from sklearn.metrics import mean_squared_error\n",
        "from sklearn.metrics import mean_absolute_error\n",
        "from sklearn.metrics import median_absolute_error\n",
        "from sklearn.metrics import mean_absolute_percentage_error\n",
        "mae = mean_absolute_error(df_val['y'].values, prophet_predict['yhat'][df_train.shape[0]:])\n",
        "mape = mean_absolute_percentage_error(df_val['y'].values, prophet_predict['yhat'][df_train.shape[0]:])\n",
        "rmse = np.sqrt(mean_squared_error(df_val['y'].values, prophet_predict['yhat'][df_train.shape[0]:]))\n",
        "\n",
        "madianae = median_absolute_error (df_val['y'].values, prophet_predict['yhat'][df_train.shape[0]:])\n",
        "Prophet_yhat = prophet_predict['yhat'][df_train.shape[0]:]\n",
        "print('Test RMSE: %.3f' % rmse)\n",
        "print('Test MAPE: %.3f' % mape)\n",
        "print('Test MAE: %.3f' % mae)\n",
        "print('Test Madian_Absolute_Error: %.3f' % madianae)\n"
      ],
      "execution_count": null,
      "outputs": [
        {
          "output_type": "stream",
          "name": "stdout",
          "text": [
            "Test RMSE: 0.534\n",
            "Test MAPE: 0.076\n",
            "Test MAE: 0.496\n",
            "Test Madian_Absolute_Error: 0.562\n"
          ]
        }
      ]
    },
    {
      "cell_type": "markdown",
      "metadata": {
        "id": "a3MzR3wGUFLr"
      },
      "source": [
        "## xgboost"
      ]
    },
    {
      "cell_type": "code",
      "metadata": {
        "id": "xT9HQr5lf--U",
        "colab": {
          "base_uri": "https://localhost:8080/",
          "height": 1000
        },
        "outputId": "0effc0e4-9c6e-4083-b953-3d1b70fcd43f"
      },
      "source": [
        "# forecast monthly births with xgboost\n",
        "from numpy import asarray\n",
        "from pandas import read_csv\n",
        "from pandas import DataFrame\n",
        "from pandas import concat\n",
        "from sklearn.metrics import mean_absolute_error\n",
        "from xgboost import XGBRegressor\n",
        "from matplotlib import pyplot\n",
        " \n",
        "# transform a time series dataset into a supervised learning dataset\n",
        "def series_to_supervised(data, n_in=1, n_out=1, dropnan=True):\n",
        "\tn_vars = 1 if type(data) is list else data.shape[1]\n",
        "\tdf = DataFrame(data)\n",
        "\tcols = list()\n",
        "\t# input sequence (t-n, ... t-1)\n",
        "\tfor i in range(n_in, 0, -1):\n",
        "\t\tcols.append(df.shift(i))\n",
        "\t# forecast sequence (t, t+1, ... t+n)\n",
        "\tfor i in range(0, n_out):\n",
        "\t\tcols.append(df.shift(-i))\n",
        "\t# put it all together\n",
        "\tagg = concat(cols, axis=1)\n",
        "\t# drop rows with NaN values\n",
        "\tif dropnan:\n",
        "\t\tagg.dropna(inplace=True)\n",
        "\treturn agg.values\n",
        " \n",
        "# split a univariate dataset into train/test sets\n",
        "def train_test_split(data, n_test):\n",
        "\treturn data[:-n_test, :], data[-n_test:, :]\n",
        " \n",
        "# fit an xgboost model and make a one step prediction\n",
        "def xgboost_forecast(train, testX):\n",
        "\t# transform list into array\n",
        "\ttrain = asarray(train)\n",
        "\t# split into input and output columns\n",
        "\ttrainX, trainy = train[:, :-1], train[:, -1]\n",
        "\t# fit model\n",
        "\tmodel = XGBRegressor(objective='reg:squarederror', n_estimators=1000)\n",
        "\tmodel.fit(trainX, trainy)\n",
        "\t# make a one-step prediction\n",
        "\txgboost_yhat = model.predict(asarray([testX]))\n",
        "\treturn xgboost_yhat[0]\n",
        " \n",
        "# walk-forward validation for univariate data\n",
        "def walk_forward_validation(data, n_test):\n",
        "\tpredictions = list()\n",
        "\t# split dataset\n",
        "\ttrain, test = train_test_split(data, n_test)\n",
        "\t# seed history with training dataset\n",
        "\thistory = [x for x in train]\n",
        "\t# step over each time-step in the test set\n",
        "\tfor i in range(len(test)):\n",
        "\t\t# split test row into input and output columns\n",
        "\t\ttestX, testy = test[i, :-1], test[i, -1]\n",
        "\t\t# fit model on history and make a prediction\n",
        "\t\txgboost_yhat = xgboost_forecast(history, testX)\n",
        "\t\t# store forecast in list of predictions\n",
        "\t\tpredictions.append(xgboost_yhat)\n",
        "\t\t# add actual observation to history for the next loop\n",
        "\t\thistory.append(test[i])\n",
        "\t\t# summarize progress\n",
        "\t\tprint('>expected=%.4f, predicted=%.4f' % (testy, xgboost_yhat))\n",
        "\t# estimate prediction error\n",
        "\terror = mean_absolute_error(test[:, -1], predictions)\n",
        "\treturn error, test[:, -1], predictions\n",
        " \n",
        "# load the dataset\n",
        "series = read_csv('exchange-rate.csv', header=0, index_col=0)\n",
        "values = series.values\n",
        "# transform the time series data into supervised learning\n",
        "data = series_to_supervised(values, n_in=6)\n",
        "# evaluate\n",
        "mae, y, xgboost_yhat = walk_forward_validation(data, 312)\n",
        "print('MAE: %.3f' % mae)\n",
        "# plot expected vs preducted\n",
        "pyplot.plot(y, label='Expected')\n",
        "pyplot.plot(xgboost_yhat, label='Predicted')\n",
        "pyplot.legend()\n"
      ],
      "execution_count": null,
      "outputs": [
        {
          "output_type": "stream",
          "name": "stderr",
          "text": [
            "/usr/local/lib/python3.7/dist-packages/xgboost/core.py:613: UserWarning:\n",
            "\n",
            "Use subset (sliced data) of np.ndarray is not recommended because it will generate extra copies and increase memory consumption\n",
            "\n"
          ]
        },
        {
          "output_type": "stream",
          "name": "stdout",
          "text": [
            ">expected=6.7909, predicted=6.7974\n",
            ">expected=6.7909, predicted=6.8029\n",
            ">expected=6.7908, predicted=6.7955\n",
            ">expected=6.7908, predicted=6.7921\n",
            ">expected=6.7906, predicted=6.7931\n",
            ">expected=6.7902, predicted=6.7946\n",
            ">expected=6.6947, predicted=6.7948\n",
            ">expected=6.6947, predicted=6.6992\n",
            ">expected=6.7460, predicted=6.6955\n",
            ">expected=6.7465, predicted=6.7485\n",
            ">expected=6.7151, predicted=6.7479\n",
            ">expected=6.7254, predicted=6.7073\n",
            ">expected=6.6976, predicted=6.7245\n",
            ">expected=6.6976, predicted=6.7123\n",
            ">expected=6.6822, predicted=6.7026\n",
            ">expected=6.6767, predicted=6.6896\n",
            ">expected=6.6511, predicted=6.6673\n",
            ">expected=6.6846, predicted=6.6431\n",
            ">expected=6.6868, predicted=6.6784\n",
            ">expected=6.6868, predicted=6.6989\n",
            ">expected=6.7122, predicted=6.6819\n",
            ">expected=6.7055, predicted=6.7209\n",
            ">expected=6.7290, predicted=6.7069\n",
            ">expected=6.7150, predicted=6.7227\n",
            ">expected=6.6912, predicted=6.7217\n",
            ">expected=6.6912, predicted=6.7013\n",
            ">expected=6.6912, predicted=6.6969\n",
            ">expected=6.6777, predicted=6.6780\n",
            ">expected=6.6535, predicted=6.6682\n",
            ">expected=6.6064, predicted=6.6620\n",
            ">expected=6.6114, predicted=6.6057\n",
            ">expected=6.6114, predicted=6.6205\n",
            ">expected=6.6296, predicted=6.5954\n",
            ">expected=6.6157, predicted=6.6225\n",
            ">expected=6.6320, predicted=6.6248\n",
            ">expected=6.6123, predicted=6.6292\n",
            ">expected=6.6064, predicted=6.6220\n",
            ">expected=6.6064, predicted=6.6058\n",
            ">expected=6.5847, predicted=6.6051\n",
            ">expected=6.5566, predicted=6.5842\n",
            ">expected=6.5607, predicted=6.5540\n",
            ">expected=6.5835, predicted=6.5735\n",
            ">expected=6.5630, predicted=6.5716\n",
            ">expected=6.5630, predicted=6.5621\n",
            ">expected=6.5860, predicted=6.5685\n",
            ">expected=6.5919, predicted=6.5839\n",
            ">expected=6.5790, predicted=6.5905\n",
            ">expected=6.5756, predicted=6.5824\n",
            ">expected=6.5770, predicted=6.5859\n",
            ">expected=6.5770, predicted=6.5829\n",
            ">expected=6.5789, predicted=6.5800\n",
            ">expected=6.5723, predicted=6.5812\n",
            ">expected=6.5634, predicted=6.5680\n",
            ">expected=6.5429, predicted=6.5680\n",
            ">expected=6.5316, predicted=6.5587\n",
            ">expected=6.5316, predicted=6.5176\n",
            ">expected=6.5298, predicted=6.5199\n",
            ">expected=6.5332, predicted=6.5208\n",
            ">expected=6.5433, predicted=6.5274\n",
            ">expected=6.5455, predicted=6.5591\n",
            ">expected=6.5467, predicted=6.5347\n",
            ">expected=6.5467, predicted=6.5400\n",
            ">expected=6.5508, predicted=6.5545\n",
            ">expected=6.5394, predicted=6.5548\n",
            ">expected=6.5328, predicted=6.5305\n",
            ">expected=6.5332, predicted=6.5363\n",
            ">expected=6.5370, predicted=6.5328\n",
            ">expected=6.5370, predicted=6.5369\n",
            ">expected=6.5497, predicted=6.5395\n",
            ">expected=6.5433, predicted=6.5583\n",
            ">expected=6.5407, predicted=6.5531\n",
            ">expected=6.5301, predicted=6.5307\n",
            ">expected=6.5418, predicted=6.5192\n",
            ">expected=6.5418, predicted=6.5397\n",
            ">expected=6.5371, predicted=6.5351\n",
            ">expected=6.5309, predicted=6.5404\n",
            ">expected=6.5233, predicted=6.5300\n",
            ">expected=6.5327, predicted=6.5260\n",
            ">expected=6.5330, predicted=6.5356\n",
            ">expected=6.5330, predicted=6.5398\n",
            ">expected=6.4616, predicted=6.5331\n",
            ">expected=6.4563, predicted=6.4418\n",
            ">expected=6.4618, predicted=6.4675\n",
            ">expected=6.4782, predicted=6.4582\n",
            ">expected=6.4754, predicted=6.4856\n",
            ">expected=6.4754, predicted=6.4826\n",
            ">expected=6.4808, predicted=6.4775\n",
            ">expected=6.4640, predicted=6.4798\n",
            ">expected=6.4681, predicted=6.4730\n",
            ">expected=6.4746, predicted=6.4764\n",
            ">expected=6.4808, predicted=6.4789\n",
            ">expected=6.4808, predicted=6.4810\n",
            ">expected=6.4925, predicted=6.4859\n",
            ">expected=6.4790, predicted=6.4958\n",
            ">expected=6.4665, predicted=6.4816\n",
            ">expected=6.4621, predicted=6.4812\n",
            ">expected=6.4819, predicted=6.4768\n",
            ">expected=6.4819, predicted=6.4801\n",
            ">expected=6.4798, predicted=6.4852\n",
            ">expected=6.4652, predicted=6.4834\n",
            ">expected=6.4836, predicted=6.4706\n",
            ">expected=6.4495, predicted=6.4768\n",
            ">expected=6.4277, predicted=6.4549\n",
            ">expected=6.4277, predicted=6.4305\n",
            ">expected=6.4679, predicted=6.4225\n",
            ">expected=6.4574, predicted=6.4728\n",
            ">expected=6.4603, predicted=6.4549\n",
            ">expected=6.4718, predicted=6.4584\n",
            ">expected=6.4667, predicted=6.4768\n",
            ">expected=6.4667, predicted=6.4725\n",
            ">expected=6.4487, predicted=6.4710\n",
            ">expected=6.4353, predicted=6.4372\n",
            ">expected=6.4582, predicted=6.4329\n",
            ">expected=6.4579, predicted=6.4558\n",
            ">expected=6.4582, predicted=6.4574\n",
            ">expected=6.4581, predicted=6.4608\n",
            ">expected=6.4582, predicted=6.4571\n",
            ">expected=6.4581, predicted=6.4572\n",
            ">expected=6.4585, predicted=6.4568\n",
            ">expected=6.4882, predicted=6.4568\n",
            ">expected=6.4869, predicted=6.4874\n",
            ">expected=6.4869, predicted=6.4915\n",
            ">expected=6.4646, predicted=6.4856\n",
            ">expected=6.4671, predicted=6.4775\n",
            ">expected=6.4571, predicted=6.4730\n",
            ">expected=6.4549, predicted=6.4577\n",
            ">expected=6.4789, predicted=6.4556\n",
            ">expected=6.4789, predicted=6.4801\n",
            ">expected=6.4658, predicted=6.4741\n",
            ">expected=6.4706, predicted=6.4713\n",
            ">expected=6.4679, predicted=6.4708\n",
            ">expected=6.4698, predicted=6.4689\n",
            ">expected=6.4968, predicted=6.4740\n",
            ">expected=6.4968, predicted=6.5032\n",
            ">expected=6.5261, predicted=6.4931\n",
            ">expected=6.5066, predicted=6.5150\n",
            ">expected=6.5059, predicted=6.5135\n",
            ">expected=6.4939, predicted=6.4971\n",
            ">expected=6.5085, predicted=6.4875\n",
            ">expected=6.5085, predicted=6.5082\n",
            ">expected=6.5047, predicted=6.5015\n",
            ">expected=6.5059, predicted=6.4992\n",
            ">expected=6.5041, predicted=6.5017\n",
            ">expected=6.5063, predicted=6.5032\n",
            ">expected=6.5090, predicted=6.5040\n",
            ">expected=6.5090, predicted=6.5041\n",
            ">expected=6.5078, predicted=6.5032\n",
            ">expected=6.5164, predicted=6.5051\n",
            ">expected=6.5246, predicted=6.5110\n",
            ">expected=6.5463, predicted=6.5146\n",
            ">expected=6.5415, predicted=6.5603\n",
            ">expected=6.5415, predicted=6.5510\n",
            ">expected=6.5697, predicted=6.5451\n",
            ">expected=6.5720, predicted=6.5683\n",
            ">expected=6.5527, predicted=6.5706\n",
            ">expected=6.5654, predicted=6.5549\n",
            ">expected=6.5675, predicted=6.5671\n",
            ">expected=6.5675, predicted=6.5672\n",
            ">expected=6.5669, predicted=6.5657\n",
            ">expected=6.5395, predicted=6.5655\n",
            ">expected=6.5425, predicted=6.5492\n",
            ">expected=6.5511, predicted=6.5465\n",
            ">expected=6.5530, predicted=6.5526\n",
            ">expected=6.5530, predicted=6.5512\n",
            ">expected=6.5489, predicted=6.5555\n",
            ">expected=6.5441, predicted=6.5492\n",
            ">expected=6.5296, predicted=6.5425\n",
            ">expected=6.5228, predicted=6.5220\n",
            ">expected=6.5209, predicted=6.5207\n",
            ">expected=6.5209, predicted=6.5210\n",
            ">expected=6.5103, predicted=6.5208\n",
            ">expected=6.4995, predicted=6.5097\n",
            ">expected=6.4910, predicted=6.4997\n",
            ">expected=6.4917, predicted=6.4936\n",
            ">expected=6.4954, predicted=6.4936\n",
            ">expected=6.4954, predicted=6.4940\n",
            ">expected=6.4855, predicted=6.4947\n",
            ">expected=6.4831, predicted=6.4810\n",
            ">expected=6.4789, predicted=6.4814\n",
            ">expected=6.4722, predicted=6.4751\n",
            ">expected=6.4745, predicted=6.4776\n",
            ">expected=6.4745, predicted=6.4801\n",
            ">expected=6.4738, predicted=6.4777\n",
            ">expected=6.4738, predicted=6.4760\n",
            ">expected=6.4740, predicted=6.4761\n",
            ">expected=6.4642, predicted=6.4755\n",
            ">expected=6.4325, predicted=6.4665\n",
            ">expected=6.4325, predicted=6.4264\n",
            ">expected=6.4165, predicted=6.4315\n",
            ">expected=6.4292, predicted=6.4045\n",
            ">expected=6.4562, predicted=6.4276\n",
            ">expected=6.4520, predicted=6.4638\n",
            ">expected=6.4371, predicted=6.4412\n",
            ">expected=6.4371, predicted=6.4392\n",
            ">expected=6.4392, predicted=6.4360\n",
            ">expected=6.4252, predicted=6.4371\n",
            ">expected=6.4350, predicted=6.4343\n",
            ">expected=6.4352, predicted=6.4353\n",
            ">expected=6.4342, predicted=6.4340\n",
            ">expected=6.4342, predicted=6.4340\n",
            ">expected=6.4193, predicted=6.4333\n",
            ">expected=6.4110, predicted=6.4111\n",
            ">expected=6.3917, predicted=6.4083\n",
            ">expected=6.3830, predicted=6.3846\n",
            ">expected=6.3684, predicted=6.3711\n",
            ">expected=6.3684, predicted=6.3569\n",
            ">expected=6.3695, predicted=6.3676\n",
            ">expected=6.3817, predicted=6.3714\n",
            ">expected=6.3811, predicted=6.3786\n",
            ">expected=6.4038, predicted=6.3795\n",
            ">expected=6.3952, predicted=6.4036\n",
            ">expected=6.3952, predicted=6.4033\n",
            ">expected=6.3974, predicted=6.4025\n",
            ">expected=6.4005, predicted=6.4106\n",
            ">expected=6.3875, predicted=6.3997\n",
            ">expected=6.3933, predicted=6.3836\n",
            ">expected=6.3987, predicted=6.3910\n",
            ">expected=6.3987, predicted=6.4037\n",
            ">expected=6.3987, predicted=6.4020\n",
            ">expected=6.4060, predicted=6.4025\n",
            ">expected=6.3977, predicted=6.4000\n",
            ">expected=6.4484, predicted=6.4039\n",
            ">expected=6.4531, predicted=6.4453\n",
            ">expected=6.4531, predicted=6.4544\n",
            ">expected=6.4669, predicted=6.4487\n",
            ">expected=6.4813, predicted=6.4668\n",
            ">expected=6.4740, predicted=6.4759\n",
            ">expected=6.4720, predicted=6.4761\n",
            ">expected=6.4562, predicted=6.4691\n",
            ">expected=6.4562, predicted=6.4612\n",
            ">expected=6.4561, predicted=6.4493\n",
            ">expected=6.4641, predicted=6.4556\n",
            ">expected=6.4572, predicted=6.4671\n",
            ">expected=6.4691, predicted=6.4625\n",
            ">expected=6.4730, predicted=6.4723\n",
            ">expected=6.4730, predicted=6.4726\n",
            ">expected=6.4638, predicted=6.4732\n",
            ">expected=6.4792, predicted=6.4627\n",
            ">expected=6.4730, predicted=6.4708\n",
            ">expected=6.4901, predicted=6.4716\n",
            ">expected=6.4789, predicted=6.4833\n",
            ">expected=6.4789, predicted=6.4698\n",
            ">expected=6.4756, predicted=6.4722\n",
            ">expected=6.4687, predicted=6.4767\n",
            ">expected=6.4692, predicted=6.4685\n",
            ">expected=6.4609, predicted=6.4766\n",
            ">expected=6.4792, predicted=6.4671\n",
            ">expected=6.4792, predicted=6.4772\n",
            ">expected=6.4905, predicted=6.4764\n",
            ">expected=6.4680, predicted=6.4807\n",
            ">expected=6.4707, predicted=6.4700\n",
            ">expected=6.4814, predicted=6.4722\n",
            ">expected=6.4814, predicted=6.4811\n",
            ">expected=6.4828, predicted=6.4828\n",
            ">expected=6.5112, predicted=6.4804\n",
            ">expected=6.4909, predicted=6.5107\n",
            ">expected=6.4564, predicted=6.4882\n",
            ">expected=6.4615, predicted=6.4701\n",
            ">expected=6.4615, predicted=6.4735\n",
            ">expected=6.4621, predicted=6.4681\n",
            ">expected=6.4702, predicted=6.4699\n",
            ">expected=6.4663, predicted=6.4735\n",
            ">expected=6.4614, predicted=6.4695\n",
            ">expected=6.4836, predicted=6.4644\n",
            ">expected=6.4836, predicted=6.4775\n",
            ">expected=6.4863, predicted=6.4786\n",
            ">expected=6.4860, predicted=6.4708\n",
            ">expected=6.4792, predicted=6.4749\n",
            ">expected=6.4793, predicted=6.4677\n",
            ">expected=6.4774, predicted=6.4794\n",
            ">expected=6.4774, predicted=6.4754\n",
            ">expected=6.4747, predicted=6.4766\n",
            ">expected=6.4861, predicted=6.4753\n",
            ">expected=6.4847, predicted=6.4814\n",
            ">expected=6.4947, predicted=6.4860\n",
            ">expected=6.5015, predicted=6.4926\n",
            ">expected=6.5015, predicted=6.5095\n",
            ">expected=6.4815, predicted=6.5021\n",
            ">expected=6.4714, predicted=6.4815\n",
            ">expected=6.4760, predicted=6.4776\n",
            ">expected=6.4815, predicted=6.4778\n",
            ">expected=6.4718, predicted=6.4803\n",
            ">expected=6.4718, predicted=6.4781\n",
            ">expected=6.4666, predicted=6.4812\n",
            ">expected=6.4607, predicted=6.4651\n",
            ">expected=6.4602, predicted=6.4668\n",
            ">expected=6.4565, predicted=6.4651\n",
            ">expected=6.4535, predicted=6.4642\n",
            ">expected=6.4535, predicted=6.4643\n",
            ">expected=6.4582, predicted=6.4616\n",
            ">expected=6.4666, predicted=6.4635\n",
            ">expected=6.4618, predicted=6.4673\n",
            ">expected=6.4554, predicted=6.4681\n",
            ">expected=6.4443, predicted=6.4635\n",
            ">expected=6.4443, predicted=6.4369\n",
            ">expected=6.4518, predicted=6.4392\n",
            ">expected=6.4394, predicted=6.4337\n",
            ">expected=6.4325, predicted=6.4378\n",
            ">expected=6.4578, predicted=6.4311\n",
            ">expected=6.4662, predicted=6.4617\n",
            ">expected=6.4662, predicted=6.4663\n",
            ">expected=6.4660, predicted=6.4668\n",
            ">expected=6.4670, predicted=6.4673\n",
            ">expected=6.4623, predicted=6.4683\n",
            ">expected=6.4590, predicted=6.4678\n",
            ">expected=6.4667, predicted=6.4679\n",
            ">expected=6.4667, predicted=6.4688\n",
            ">expected=6.4570, predicted=6.4694\n",
            ">expected=6.4598, predicted=6.4596\n",
            ">expected=6.4706, predicted=6.4646\n",
            ">expected=6.4465, predicted=6.4716\n",
            ">expected=6.4467, predicted=6.4376\n",
            "MAE: 0.010\n"
          ]
        },
        {
          "output_type": "execute_result",
          "data": {
            "text/plain": [
              "<matplotlib.legend.Legend at 0x7f762657b350>"
            ]
          },
          "metadata": {},
          "execution_count": 7
        },
        {
          "output_type": "display_data",
          "data": {
            "image/png": "[encoded data removed]",
            "text/plain": [
              "<Figure size 432x288 with 1 Axes>"
            ]
          },
          "metadata": {
            "needs_background": "light"
          }
        }
      ]
    },
    {
      "cell_type": "code",
      "metadata": {
        "colab": {
          "base_uri": "https://localhost:8080/"
        },
        "id": "MrO19nRnF1Yc",
        "outputId": "50dd1387-81d6-492d-804a-da1cba62b758"
      },
      "source": [
        "'''\n",
        "rmse = np.sqrt(mean_squared_error(df_val['y'].values, xgboost_yhat))\n",
        "print('Test RMSE: %.3f' % rmse)\n",
        "'''\n",
        "mae = mean_absolute_error(df_val['y'].values, xgboost_yhat)\n",
        "mape = mean_absolute_percentage_error(df_val['y'].values, xgboost_yhat)\n",
        "rmse = np.sqrt(mean_squared_error(df_val['y'].values, xgboost_yhat))\n",
        "madianae = median_absolute_error (df_val['y'].values, xgboost_yhat)\n",
        "print('Test RMSE: %.3f' % rmse)\n",
        "print('Test MAPE: %.3f' % mape)\n",
        "print('Test MAE: %.3f' % mae)\n",
        "print('Test Madian_Absolute_Error: %.3f' % madianae)"
      ],
      "execution_count": null,
      "outputs": [
        {
          "output_type": "stream",
          "name": "stdout",
          "text": [
            "Test RMSE: 0.122\n",
            "Test MAPE: 0.015\n",
            "Test MAE: 0.099\n",
            "Test Madian_Absolute_Error: 0.081\n"
          ]
        }
      ]
    },
    {
      "cell_type": "markdown",
      "metadata": {
        "id": "Lzur4TwSCn8Z"
      },
      "source": [
        "## Arima"
      ]
    },
    {
      "cell_type": "code",
      "metadata": {
        "id": "MYwGSwTgQlc2",
        "colab": {
          "base_uri": "https://localhost:8080/"
        },
        "outputId": "3dc376ca-ae98-4130-9d49-1dc64a66ca4b"
      },
      "source": [
        "pip install pmdarima"
      ],
      "execution_count": null,
      "outputs": [
        {
          "output_type": "stream",
          "name": "stdout",
          "text": [
            "Collecting pmdarima\n",
            "  Downloading pmdarima-1.8.4-cp37-cp37m-manylinux_2_17_x86_64.manylinux2014_x86_64.manylinux_2_24_x86_64.whl (1.4 MB)\n",
            "\u001b[K     |████████████████████████████████| 1.4 MB 5.2 MB/s \n",
            "\u001b[?25hRequirement already satisfied: Cython!=0.29.18,>=0.29 in /usr/local/lib/python3.7/dist-packages (from pmdarima) (0.29.24)\n",
            "Collecting statsmodels!=0.12.0,>=0.11\n",
            "  Downloading statsmodels-0.13.1-cp37-cp37m-manylinux_2_17_x86_64.manylinux2014_x86_64.whl (9.8 MB)\n",
            "\u001b[K     |████████████████████████████████| 9.8 MB 15.2 MB/s \n",
            "\u001b[?25hRequirement already satisfied: setuptools!=50.0.0,>=38.6.0 in /usr/local/lib/python3.7/dist-packages (from pmdarima) (57.4.0)\n",
            "Requirement already satisfied: scikit-learn>=0.22 in /usr/local/lib/python3.7/dist-packages (from pmdarima) (1.0.1)\n",
            "Requirement already satisfied: urllib3 in /usr/local/lib/python3.7/dist-packages (from pmdarima) (1.24.3)\n",
            "Requirement already satisfied: joblib>=0.11 in /usr/local/lib/python3.7/dist-packages (from pmdarima) (1.1.0)\n",
            "Requirement already satisfied: scipy>=1.3.2 in /usr/local/lib/python3.7/dist-packages (from pmdarima) (1.4.1)\n",
            "Requirement already satisfied: pandas>=0.19 in /usr/local/lib/python3.7/dist-packages (from pmdarima) (1.1.5)\n",
            "Requirement already satisfied: numpy>=1.19.3 in /usr/local/lib/python3.7/dist-packages (from pmdarima) (1.19.5)\n",
            "Requirement already satisfied: pytz>=2017.2 in /usr/local/lib/python3.7/dist-packages (from pandas>=0.19->pmdarima) (2018.9)\n",
            "Requirement already satisfied: python-dateutil>=2.7.3 in /usr/local/lib/python3.7/dist-packages (from pandas>=0.19->pmdarima) (2.8.2)\n",
            "Requirement already satisfied: six>=1.5 in /usr/local/lib/python3.7/dist-packages (from python-dateutil>=2.7.3->pandas>=0.19->pmdarima) (1.15.0)\n",
            "Requirement already satisfied: threadpoolctl>=2.0.0 in /usr/local/lib/python3.7/dist-packages (from scikit-learn>=0.22->pmdarima) (3.0.0)\n",
            "Requirement already satisfied: patsy>=0.5.2 in /usr/local/lib/python3.7/dist-packages (from statsmodels!=0.12.0,>=0.11->pmdarima) (0.5.2)\n",
            "Installing collected packages: statsmodels, pmdarima\n",
            "  Attempting uninstall: statsmodels\n",
            "    Found existing installation: statsmodels 0.10.2\n",
            "    Uninstalling statsmodels-0.10.2:\n",
            "      Successfully uninstalled statsmodels-0.10.2\n",
            "Successfully installed pmdarima-1.8.4 statsmodels-0.13.1\n"
          ]
        }
      ]
    },
    {
      "cell_type": "code",
      "metadata": {
        "id": "MKwg_qZdGmLh",
        "colab": {
          "base_uri": "https://localhost:8080/",
          "height": 283
        },
        "outputId": "4cbc5202-f6b0-4a3c-8a1a-e157723076f6"
      },
      "source": [
        "from pandas.plotting import autocorrelation_plot\n",
        "def autocorrelation_Arima(df):\n",
        "  df[\"ds\"] = df[\"ds\"].astype(\"datetime64\")\n",
        "  df = df.set_index(\"ds\")\n",
        "  #plt.title('Auto_Arima Autocorrelation')\n",
        "  autocorrelation_plot(df)\n",
        "  pyplot.show()\n",
        "autocorrelation_Arima(df)"
      ],
      "execution_count": null,
      "outputs": [
        {
          "output_type": "display_data",
          "data": {
            "image/png": "[encoded data removed]",
            "text/plain": [
              "<Figure size 432x288 with 1 Axes>"
            ]
          },
          "metadata": {
            "needs_background": "light"
          }
        }
      ]
    },
    {
      "cell_type": "code",
      "metadata": {
        "id": "xbOjMbe7GtnZ",
        "colab": {
          "base_uri": "https://localhost:8080/"
        },
        "outputId": "bdcb0825-2680-4584-ebf4-b8e43abd690e"
      },
      "source": [
        "def arima_Prediction(df_train, df_val):\n",
        "  from pmdarima.arima import auto_arima\n",
        "  df_train.drop(\"ds\", axis = 1, inplace = True)\n",
        "  df_val.drop(\"ds\", axis = 1, inplace = True)\n",
        "  model = auto_arima(df_train, trace = True, error_action = \"ignore\", suppress_warnings= True)\n",
        "  model.fit(df_train)\n",
        "  forecast = model.predict(n_periods=len(df_val),exog = None)\n",
        "  forecast = pd.DataFrame(forecast, index = df_val.index, columns = ['Prediction'])\n",
        "  return forecast\n",
        "Arima_yhat = arima_Prediction(df_train,df_val)"
      ],
      "execution_count": null,
      "outputs": [
        {
          "output_type": "stream",
          "name": "stderr",
          "text": [
            "/usr/local/lib/python3.7/dist-packages/pandas/core/frame.py:4174: SettingWithCopyWarning:\n",
            "\n",
            "\n",
            "A value is trying to be set on a copy of a slice from a DataFrame\n",
            "\n",
            "See the caveats in the documentation: https://pandas.pydata.org/pandas-docs/stable/user_guide/indexing.html#returning-a-view-versus-a-copy\n",
            "\n"
          ]
        },
        {
          "output_type": "stream",
          "name": "stdout",
          "text": [
            "Performing stepwise search to minimize aic\n",
            " ARIMA(2,2,2)(0,0,0)[0]             : AIC=inf, Time=7.72 sec\n",
            " ARIMA(0,2,0)(0,0,0)[0]             : AIC=-33110.352, Time=0.80 sec\n",
            " ARIMA(1,2,0)(0,0,0)[0]             : AIC=-36022.093, Time=0.31 sec\n",
            " ARIMA(0,2,1)(0,0,0)[0]             : AIC=inf, Time=3.28 sec\n",
            " ARIMA(2,2,0)(0,0,0)[0]             : AIC=-37195.817, Time=0.73 sec\n",
            " ARIMA(3,2,0)(0,0,0)[0]             : AIC=-37845.647, Time=0.66 sec\n",
            " ARIMA(4,2,0)(0,0,0)[0]             : AIC=-38265.680, Time=5.64 sec\n",
            " ARIMA(5,2,0)(0,0,0)[0]             : AIC=-38541.861, Time=2.00 sec\n",
            " ARIMA(5,2,1)(0,0,0)[0]             : AIC=inf, Time=11.42 sec\n",
            " ARIMA(4,2,1)(0,0,0)[0]             : AIC=inf, Time=9.34 sec\n",
            " ARIMA(5,2,0)(0,0,0)[0] intercept   : AIC=-38539.861, Time=26.75 sec\n",
            "\n",
            "Best model:  ARIMA(5,2,0)(0,0,0)[0]          \n",
            "Total fit time: 68.687 seconds\n"
          ]
        }
      ]
    },
    {
      "cell_type": "code",
      "metadata": {
        "id": "BQN1GKx7QyNm",
        "colab": {
          "base_uri": "https://localhost:8080/",
          "height": 295
        },
        "outputId": "8caf46d7-148a-4579-b605-44a2415a492c"
      },
      "source": [
        "from matplotlib import pyplot as plt\n",
        "plt.plot(df_train, label = \"Train\")\n",
        "plt.plot(df_val, label = \"Valid\")\n",
        "plt.plot(Arima_yhat,label = \"Prediction\")\n",
        "plt.title('US-China Exchange Rate predict--Arima')\n",
        "plt.xlabel('Time')\n",
        "plt.ylabel('Exchange Rate')\n",
        "plt.legend()\n",
        "plt.show()"
      ],
      "execution_count": null,
      "outputs": [
        {
          "output_type": "display_data",
          "data": {
            "image/png": "[encoded data removed]",
            "text/plain": [
              "<Figure size 432x288 with 1 Axes>"
            ]
          },
          "metadata": {
            "needs_background": "light"
          }
        }
      ]
    },
    {
      "cell_type": "code",
      "metadata": {
        "id": "aNrMjGYJQ32l",
        "colab": {
          "base_uri": "https://localhost:8080/"
        },
        "outputId": "a2e75879-7210-4639-829f-59478b1aef26"
      },
      "source": [
        "'''\n",
        "from sklearn.metrics import mean_squared_error\n",
        "rmse = np.sqrt(mean_squared_error(df_val, Arima_yhat))\n",
        "print('Test RMSE: %.3f' % rmse)\n",
        "'''\n",
        "\n",
        "mae = mean_absolute_error(df_val['y'].values, Arima_yhat)\n",
        "mape = mean_absolute_percentage_error(df_val['y'].values, Arima_yhat)\n",
        "rmse = np.sqrt(mean_squared_error(df_val['y'].values, Arima_yhat))\n",
        "madianae = median_absolute_error (df_val['y'].values, Arima_yhat)\n",
        "print('Test RMSE: %.3f' % rmse)\n",
        "print('Test MAPE: %.3f' % mape)\n",
        "print('Test MAE: %.3f' % mae)\n",
        "print('Test Madian_Absolute_Error: %.3f' % madianae)"
      ],
      "execution_count": null,
      "outputs": [
        {
          "output_type": "stream",
          "name": "stdout",
          "text": [
            "Test RMSE: 0.871\n",
            "Test MAPE: 0.109\n",
            "Test MAE: 0.705\n",
            "Test Madian_Absolute_Error: 0.594\n"
          ]
        }
      ]
    },
    {
      "cell_type": "markdown",
      "metadata": {
        "id": "EaUpyQODKUWp"
      },
      "source": [
        "## LSTM with RNN"
      ]
    },
    {
      "cell_type": "code",
      "metadata": {
        "id": "kPLvO74U6ijQ",
        "colab": {
          "base_uri": "https://localhost:8080/"
        },
        "outputId": "f6f79a87-8767-4716-ee5d-75bbe8285b21"
      },
      "source": [
        "import keras \n",
        "from keras.models import Sequential\n",
        "from keras.layers import Dense\n",
        "from keras.layers import LSTM\n",
        "from keras.layers import Dropout\n",
        "from keras.layers import * \n",
        "from sklearn .preprocessing import MinMaxScaler \n",
        "from sklearn.metrics import mean_squared_error \n",
        "from sklearn.metrics import mean_absolute_error \n",
        "from sklearn.model_selection import train_test_split \n",
        "from keras.callbacks import EarlyStopping\n",
        "\n",
        "def LSTM_RNN_Prediction(df_train,df_val):\n",
        "  df_train_2 = df_train.iloc[:,1:2].values\n",
        "  X_train = []\n",
        "  y_train = []\n",
        "  for i in range(30,df_train_2.shape[0]):\n",
        "    X_train.append(df_train_2[i-30:i,0])\n",
        "    y_train.append(df_train_2[i,0])\n",
        "  X_train, y_train = np.array(X_train), np.array(y_train)\n",
        "  X_train = np.reshape(X_train, (X_train.shape[0], X_train.shape[1], 1))\n",
        "\n",
        "  # initialize our RNN\n",
        "  regressor = Sequential()\n",
        "\n",
        "  regressor.add(LSTM(units = 50, return_sequences = True,input_shape = (X_train.shape[1], 1)))\n",
        "  regressor.add(Dropout(0.2))\n",
        "\n",
        "  regressor.add(LSTM(units = 50, return_sequences = True))\n",
        "  regressor.add(Dropout(0.2))\n",
        "\n",
        "  regressor.add(LSTM(units = 50, return_sequences = True))\n",
        "  regressor.add(Dropout(0.2))\n",
        "\n",
        "  regressor.add(LSTM(units = 50))\n",
        "  regressor.add(Dropout(0.2))\n",
        "\n",
        "  regressor.add(Dense(units = 1))\n",
        "\n",
        "  regressor.compile(optimizer = 'adam', loss = 'mean_squared_error')\n",
        "\n",
        "  regressor.fit(X_train, y_train, epochs = 10, batch_size = 100)\n",
        "  df_val_2 = df_val.iloc[:,1:2].values\n",
        "\n",
        "  X_test = []\n",
        "  for i in range(30, df_val_2.shape[0]):\n",
        "    X_test.append(df_val_2[i-30:i, 0])\n",
        "  X_test = np.array(X_test)\n",
        "  X_test = np.reshape(X_test, (X_test.shape[0], X_test.shape[1], 1))\n",
        "\n",
        "  predicted_rate = regressor.predict(X_test)\n",
        "  return predicted_rate, df_val_2\n",
        "LSTM_yhat,df_val_2 = LSTM_RNN_Prediction(df_train,df_val)"
      ],
      "execution_count": null,
      "outputs": [
        {
          "output_type": "stream",
          "name": "stdout",
          "text": [
            "Epoch 1/10\n",
            "100/100 [==============================] - 18s 104ms/step - loss: 7.0494\n",
            "Epoch 2/10\n",
            "100/100 [==============================] - 10s 104ms/step - loss: 0.4512\n",
            "Epoch 3/10\n",
            "100/100 [==============================] - 10s 104ms/step - loss: 0.3441\n",
            "Epoch 4/10\n",
            "100/100 [==============================] - 10s 104ms/step - loss: 0.3169\n",
            "Epoch 5/10\n",
            "100/100 [==============================] - 10s 104ms/step - loss: 0.2957\n",
            "Epoch 6/10\n",
            "100/100 [==============================] - 10s 103ms/step - loss: 0.2832\n",
            "Epoch 7/10\n",
            "100/100 [==============================] - 10s 104ms/step - loss: 0.2754\n",
            "Epoch 8/10\n",
            "100/100 [==============================] - 10s 104ms/step - loss: 0.2662\n",
            "Epoch 9/10\n",
            "100/100 [==============================] - 10s 104ms/step - loss: 0.2566\n",
            "Epoch 10/10\n",
            "100/100 [==============================] - 10s 103ms/step - loss: 0.2646\n"
          ]
        }
      ]
    },
    {
      "cell_type": "code",
      "metadata": {
        "id": "EhaPSIDdPftK",
        "colab": {
          "base_uri": "https://localhost:8080/",
          "height": 295
        },
        "outputId": "35e3f3de-7b15-4b10-da71-fda407cda5dd"
      },
      "source": [
        "# Visualising the results\n",
        "plt.plot(df_val['ds'],df_val['y'], color = 'red', label = 'Real exchange-rate')\n",
        "plt.plot(df_val[30:312]['ds'],LSTM_yhat, color = 'blue', label = 'Predicted exchange-rate')\n",
        "#plt.xticks(np.arange(0,459,50))\n",
        "plt.title('US-China Exchange Rate predict--LSTM')\n",
        "plt.xlabel('Time')\n",
        "plt.ylabel('Exchange Rate')\n",
        "plt.legend()\n",
        "plt.show()"
      ],
      "execution_count": null,
      "outputs": [
        {
          "output_type": "display_data",
          "data": {
            "image/png": "[encoded data removed]",
            "text/plain": [
              "<Figure size 432x288 with 1 Axes>"
            ]
          },
          "metadata": {
            "needs_background": "light"
          }
        }
      ]
    },
    {
      "cell_type": "code",
      "metadata": {
        "id": "8drnjCqrcLmp",
        "colab": {
          "base_uri": "https://localhost:8080/"
        },
        "outputId": "f843d541-7d85-4dda-81c4-bc5bbce030e8"
      },
      "source": [
        "'''\n",
        "from sklearn.metrics import mean_squared_error\n",
        "\n",
        "rmse = np.sqrt(mean_squared_error(df_val_2[30:312, 0], LSTM_yhat))\n",
        "print('Test RMSE: %.3f' % rmse)\n",
        "'''\n",
        "mae = mean_absolute_error(df_val_2[30:312, 0], LSTM_yhat)\n",
        "mape = mean_absolute_percentage_error(df_val_2[30:312, 0], LSTM_yhat)\n",
        "rmse = np.sqrt(mean_squared_error(df_val_2[30:312, 0], LSTM_yhat))\n",
        "madianae = median_absolute_error (df_val_2[30:312, 0], LSTM_yhat)\n",
        "print('Test RMSE: %.3f' % rmse)\n",
        "print('Test MAPE: %.3f' % mape)\n",
        "print('Test MAE: %.3f' % mae)\n",
        "print('Test Madian_Absolute_Error: %.3f' % madianae)"
      ],
      "execution_count": null,
      "outputs": [
        {
          "output_type": "stream",
          "name": "stdout",
          "text": [
            "Test RMSE: 0.087\n",
            "Test MAPE: 0.012\n",
            "Test MAE: 0.080\n",
            "Test Madian_Absolute_Error: 0.080\n"
          ]
        }
      ]
    },
    {
      "cell_type": "markdown",
      "metadata": {
        "id": "2PDKPNdqd8QY"
      },
      "source": [
        "# Use linear regression to calculate the weight"
      ]
    },
    {
      "cell_type": "code",
      "metadata": {
        "id": "3lf-oIHbd8CB"
      },
      "source": [
        "Prophet_yhat2 = np.array(Prophet_yhat)\n",
        "Prophet_yhat3 = Prophet_yhat2.reshape(-1,1)"
      ],
      "execution_count": null,
      "outputs": []
    },
    {
      "cell_type": "code",
      "metadata": {
        "id": "CavZhfnIqmxJ"
      },
      "source": [
        "Arima_yhat2 = Arima_yhat.to_numpy()\n",
        "Arima_yhat3 = Arima_yhat2.reshape(-1,1)"
      ],
      "execution_count": null,
      "outputs": []
    },
    {
      "cell_type": "code",
      "metadata": {
        "colab": {
          "base_uri": "https://localhost:8080/"
        },
        "id": "mfY68xjbqTwK",
        "outputId": "1f190341-b95b-48b1-8558-53b95dff9e64"
      },
      "source": [
        "k = np.hstack((Prophet_yhat3, Arima_yhat3))\n",
        "k.shape"
      ],
      "execution_count": null,
      "outputs": [
        {
          "output_type": "execute_result",
          "data": {
            "text/plain": [
              "(312, 2)"
            ]
          },
          "metadata": {},
          "execution_count": 22
        }
      ]
    },
    {
      "cell_type": "code",
      "metadata": {
        "id": "ToR7Oov771qr"
      },
      "source": [
        "xgboost_yhat2 = np.array(xgboost_yhat)\n",
        "xgboost_yhat3 = xgboost_yhat2.reshape(-1,1)\n",
        "m = np.hstack((k,xgboost_yhat3))"
      ],
      "execution_count": null,
      "outputs": []
    },
    {
      "cell_type": "code",
      "metadata": {
        "colab": {
          "base_uri": "https://localhost:8080/"
        },
        "id": "ttSXnevTtzjI",
        "outputId": "c92f88cb-4ea7-4f58-db24-d2517db34198"
      },
      "source": [
        "LSTM_yhat.shape"
      ],
      "execution_count": null,
      "outputs": [
        {
          "output_type": "execute_result",
          "data": {
            "text/plain": [
              "(282, 1)"
            ]
          },
          "metadata": {},
          "execution_count": 24
        }
      ]
    },
    {
      "cell_type": "code",
      "metadata": {
        "id": "nqaZZmKMuEAx"
      },
      "source": [
        "LSTM_yhat33 = df_val['y'][0:30].to_numpy()\n",
        "LSTM_yhat34 = LSTM_yhat33.reshape(-1,1)"
      ],
      "execution_count": null,
      "outputs": []
    },
    {
      "cell_type": "code",
      "metadata": {
        "id": "cpzUKknHb6zn",
        "colab": {
          "base_uri": "https://localhost:8080/"
        },
        "outputId": "34132458-9959-40e4-bf8c-1ee19916d397"
      },
      "source": [
        "LSTM_yhat2 = np.vstack((LSTM_yhat34, LSTM_yhat))\n",
        "LSTM_yhat2.shape"
      ],
      "execution_count": null,
      "outputs": [
        {
          "output_type": "execute_result",
          "data": {
            "text/plain": [
              "(312, 1)"
            ]
          },
          "metadata": {},
          "execution_count": 26
        }
      ]
    },
    {
      "cell_type": "code",
      "metadata": {
        "colab": {
          "base_uri": "https://localhost:8080/"
        },
        "id": "aRa_4HxkumTk",
        "outputId": "9f0a45ad-cc19-4965-f375-878fd1e28293"
      },
      "source": [
        "Xdata1 = np.hstack((m,LSTM_yhat2))\n",
        "ydata = df_val['y'].to_numpy().reshape(-1,1)\n",
        "ones = np.ones(312).reshape(-1,1)\n",
        "Xdata = np.hstack((Xdata1, ones))\n",
        "Xdata.shape"
      ],
      "execution_count": null,
      "outputs": [
        {
          "output_type": "execute_result",
          "data": {
            "text/plain": [
              "(312, 5)"
            ]
          },
          "metadata": {},
          "execution_count": 27
        }
      ]
    },
    {
      "cell_type": "code",
      "metadata": {
        "id": "4OrqqXmehdkA"
      },
      "source": [
        "# the loss function\n",
        "'''\n",
        "y_hat : 312*1 matrix\n",
        "y: 312*1 matrix \n",
        "'''\n",
        "def compute_loss (y_hat, y):\n",
        "  loss = []\n",
        "  for i in range (len(y_hat)):\n",
        "    loss.append(y_hat[i] - y[i]) \n",
        "  return np.mean(loss)\n",
        "# the gradient function \n",
        "'''\n",
        "X: 312*5 matrix\n",
        "y_hat : 312*1 matrix\n",
        "y: 312*1 matrix \n",
        "'''\n",
        "def compute_gradient (X, y, y_hat):\n",
        "\n",
        "  gradient = np.dot((y_hat - y).T, X)\n",
        "  return gradient/70000\n",
        "# Check if the algorithm has converged.\n",
        "def hasConverged(epsilon, thetaOld, thetaNew):\n",
        "  l2_sum = 0\n",
        "  for i in range(len(thetaOld)):\n",
        "    l2_sum = np.sqrt((thetaNew[i] - thetaOld[i]**2)) + l2_sum\n",
        "  if ( l2_sum < epsilon):\n",
        "    return True\n",
        "  else:\n",
        "    return False\n",
        "# fit the data for once\n",
        "'''\n",
        "X: 312*5 matrix\n",
        "y: 312*1 matrix \n",
        "theta: 1*5 matrix\n",
        "alpha: int\n",
        "'''\n",
        "def fitonce (theta, X, y,alpha):\n",
        "  L = compute_loss(np.dot(X,theta.T),y)\n",
        "  gradient = compute_gradient(X,y,np.dot(X, theta.T))\n",
        "  theta_new = theta - alpha*gradient\n",
        "\n",
        "  return L, theta_new \n",
        "# fit the best \n",
        "'''\n",
        "X: 312*5 matrix\n",
        "y: 312*1 matrix \n",
        "'''\n",
        "def fit (X, y):\n",
        "  alpha = 0.95\n",
        "  N_inter = 2\n",
        "  epsilon = 0.1\n",
        "  iter = 0\n",
        "  #theta_old = np.array([0.25,0.25,0.25,0.25,1])\n",
        "  theta_old = np.array([0.25,0.25,3.3])\n",
        "  theta_new = fitonce(theta_old, X, y, alpha)[1]\n",
        "  \n",
        "\n",
        "  while hasConverged(epsilon, theta_old,theta_new) == False and iter < N_inter -1 :\n",
        "     theta_old = theta_new\n",
        "     theta_new = fitonce(theta_old,X,y,alpha)[1]\n",
        "     iter += 1\n",
        "  return theta_new\n",
        "\n",
        "# predict \n",
        "def predict (theta, X):\n",
        "\n",
        "  return np.dot(X, theta.T)"
      ],
      "execution_count": null,
      "outputs": []
    },
    {
      "cell_type": "code",
      "metadata": {
        "id": "Cf-lfBkikl9f"
      },
      "source": [
        "theta = fit(Xdata, y)"
      ],
      "execution_count": null,
      "outputs": []
    },
    {
      "cell_type": "code",
      "metadata": {
        "colab": {
          "base_uri": "https://localhost:8080/"
        },
        "id": "UxrSurEgA_V8",
        "outputId": "9396b16a-32fd-4075-982b-b5ee996df2a0"
      },
      "source": [
        "print(theta)"
      ],
      "execution_count": null,
      "outputs": [
        {
          "output_type": "stream",
          "name": "stdout",
          "text": [
            "[0.21144307 0.21726305 0.21441487 0.21356694 0.99454085]\n"
          ]
        }
      ]
    },
    {
      "cell_type": "code",
      "metadata": {
        "colab": {
          "base_uri": "https://localhost:8080/"
        },
        "id": "Rv_wO2dC8zzt",
        "outputId": "ba0fdc8b-6fdd-4566-c718-24b0bfbc76fc"
      },
      "source": [
        "from sklearn.linear_model import LinearRegression\n",
        "# creating an object of LinearRegression class\n",
        "LR = LinearRegression()\n",
        "# fitting the training data\n",
        "LR.fit(Xdata,ydata)\n",
        "\n",
        "print(LR.coef_)"
      ],
      "execution_count": null,
      "outputs": [
        {
          "output_type": "stream",
          "name": "stdout",
          "text": [
            "[[ 0.07644344 -0.01966347  0.28446975  0.99237812  0.        ]]\n"
          ]
        }
      ]
    },
    {
      "cell_type": "code",
      "metadata": {
        "colab": {
          "base_uri": "https://localhost:8080/",
          "height": 295
        },
        "id": "ujqr3_6t-MpB",
        "outputId": "489b0951-fea0-4236-f9da-574f44163ed1"
      },
      "source": [
        "y_after = np.dot(Xdata,LR.coef_.T )\n",
        "plt.plot(df_val['ds'],df_val['y'], color = 'red', label = 'Real exchange-rate')\n",
        "plt.plot(df_val['ds'],y_after, color = 'blue', label = 'Predicted exchange-rate')\n",
        "plt.title('US-China Exchange Rate predict--Conbined#1')\n",
        "plt.xlabel('Time')\n",
        "plt.ylabel('Exchange Rate')\n",
        "plt.legend()\n",
        "plt.show()"
      ],
      "execution_count": null,
      "outputs": [
        {
          "output_type": "display_data",
          "data": {
            "image/png": "[encoded data removed]",
            "text/plain": [
              "<Figure size 432x288 with 1 Axes>"
            ]
          },
          "metadata": {
            "needs_background": "light"
          }
        }
      ]
    },
    {
      "cell_type": "code",
      "metadata": {
        "colab": {
          "base_uri": "https://localhost:8080/"
        },
        "id": "hQ03M6UnFai8",
        "outputId": "d77c2658-14af-4951-a95d-3a8bf54f88b5"
      },
      "source": [
        "\n",
        "\n",
        "mae = mean_absolute_error(df_val['y'].values, y_after)\n",
        "mape = mean_absolute_percentage_error(df_val['y'].values, y_after)\n",
        "rmse = np.sqrt(mean_squared_error(df_val['y'].values, y_after))\n",
        "madianae = median_absolute_error (df_val['y'].values, y_after)\n",
        "print('Test RMSE: %.3f' % rmse)\n",
        "print('Test MAPE: %.3f' % mape)\n",
        "print('Test MAE: %.3f' % mae)\n",
        "print('Test Madian_Absolute_Error: %.3f' % madianae)\n"
      ],
      "execution_count": null,
      "outputs": [
        {
          "output_type": "stream",
          "name": "stdout",
          "text": [
            "Test RMSE: 2.299\n",
            "Test MAPE: 0.350\n",
            "Test MAE: 2.299\n",
            "Test Madian_Absolute_Error: 2.298\n"
          ]
        }
      ]
    },
    {
      "cell_type": "code",
      "metadata": {
        "colab": {
          "base_uri": "https://localhost:8080/",
          "height": 295
        },
        "id": "NJKIk_so_sP7",
        "outputId": "922f01b8-63a1-48a3-d157-a0cd259f2f52"
      },
      "source": [
        "y_after2 = np.dot(Xdata,theta.T )\n",
        "plt.plot(df_val['ds'],df_val['y'], color = 'red', label = 'Real exchange-rate')\n",
        "plt.plot(df_val['ds'],y_after2, color = 'blue', label = 'Predicted exchange-rate')\n",
        "plt.title('US-China Exchange Rate predict--Combined#2')\n",
        "plt.xlabel('Time')\n",
        "plt.ylabel('Exchange Rate')\n",
        "plt.legend()\n",
        "plt.show()"
      ],
      "execution_count": null,
      "outputs": [
        {
          "output_type": "display_data",
          "data": {
            "image/png": "[encoded data removed]",
            "text/plain": [
              "<Figure size 432x288 with 1 Axes>"
            ]
          },
          "metadata": {
            "needs_background": "light"
          }
        }
      ]
    },
    {
      "cell_type": "code",
      "metadata": {
        "colab": {
          "base_uri": "https://localhost:8080/"
        },
        "id": "eLGAvSdEFc2B",
        "outputId": "9ec781f6-9254-4523-f382-6be225f4da77"
      },
      "source": [
        "\n",
        "mae = mean_absolute_error(df_val['y'].values, y_after2)\n",
        "mape = mean_absolute_percentage_error(df_val['y'].values, y_after2)\n",
        "rmse = np.sqrt(mean_squared_error(df_val['y'].values, y_after2))\n",
        "madianae = median_absolute_error (df_val['y'].values, y_after2)\n",
        "print('Test RMSE: %.3f' % rmse)\n",
        "print('Test MAPE: %.3f' % mape)\n",
        "print('Test MAE: %.3f' % mae)\n",
        "print('Test Madian_Absolute_Error: %.3f' % madianae)"
      ],
      "execution_count": null,
      "outputs": [
        {
          "output_type": "stream",
          "name": "stdout",
          "text": [
            "Test RMSE: 0.077\n",
            "Test MAPE: 0.010\n",
            "Test MAE: 0.063\n",
            "Test Madian_Absolute_Error: 0.059\n"
          ]
        }
      ]
    },
    {
      "cell_type": "markdown",
      "metadata": {
        "id": "MPrD-_FIBeV8"
      },
      "source": [
        "# Only LSTM and xgboost"
      ]
    },
    {
      "cell_type": "code",
      "metadata": {
        "colab": {
          "base_uri": "https://localhost:8080/"
        },
        "id": "BTWbRKi7_-pW",
        "outputId": "dec715fd-6c36-46cd-e440-76a0efe9f826"
      },
      "source": [
        "Xdata_Lxg =  np.hstack((LSTM_yhat2,xgboost_yhat3))\n",
        "ones = np.ones(312).reshape(-1,1)\n",
        "Xdata_Lxg = np.hstack((Xdata_Lxg, ones))\n",
        "Xdata_Lxg.shape"
      ],
      "execution_count": null,
      "outputs": [
        {
          "output_type": "execute_result",
          "data": {
            "text/plain": [
              "(312, 3)"
            ]
          },
          "metadata": {},
          "execution_count": 43
        }
      ]
    },
    {
      "cell_type": "code",
      "metadata": {
        "colab": {
          "base_uri": "https://localhost:8080/"
        },
        "id": "CR3-fx6eCnc3",
        "outputId": "148715bd-e836-4a74-a7ae-ece624acd09f"
      },
      "source": [
        "# creating an object of LinearRegression class\n",
        "LR = LinearRegression()\n",
        "# fitting the training data\n",
        "LR.fit(Xdata_Lxg,ydata)\n",
        "print(LR.coef_)"
      ],
      "execution_count": null,
      "outputs": [
        {
          "output_type": "stream",
          "name": "stdout",
          "text": [
            "[[0.89890373 0.2794011  0.        ]]\n"
          ]
        }
      ]
    },
    {
      "cell_type": "code",
      "metadata": {
        "colab": {
          "base_uri": "https://localhost:8080/",
          "height": 295
        },
        "id": "XIi9VCghCxpA",
        "outputId": "f7b2eeb9-2789-4eed-ac66-df6d9a05686b"
      },
      "source": [
        "y_after3 = np.dot(Xdata_Lxg,LR.coef_.T )\n",
        "plt.plot(df_val['ds'],df_val['y'], color = 'red', label = 'Real exchange-rate')\n",
        "plt.plot(df_val['ds'],y_after3, color = 'blue', label = 'Predicted exchange-rate')\n",
        "plt.title('US-China Exchange Rate predict--Conbined#3')\n",
        "plt.xlabel('Time')\n",
        "plt.ylabel('Exchange Rate')\n",
        "plt.legend()\n",
        "plt.show()"
      ],
      "execution_count": null,
      "outputs": [
        {
          "output_type": "display_data",
          "data": {
            "image/png": "[encoded data removed]",
            "text/plain": [
              "<Figure size 432x288 with 1 Axes>"
            ]
          },
          "metadata": {
            "needs_background": "light"
          }
        }
      ]
    },
    {
      "cell_type": "code",
      "metadata": {
        "colab": {
          "base_uri": "https://localhost:8080/"
        },
        "id": "5W41SqQ1EOau",
        "outputId": "9d86c97b-aab1-4c69-fea5-54e34d024132"
      },
      "source": [
        "\n",
        "mae = mean_absolute_error(df_val['y'].values, y_after3)\n",
        "mape = mean_absolute_percentage_error(df_val['y'].values, y_after3)\n",
        "rmse = np.sqrt(mean_squared_error(df_val['y'].values, y_after3))\n",
        "madianae = median_absolute_error (df_val['y'].values, y_after3)\n",
        "print('Test RMSE: %.3f' % rmse)\n",
        "print('Test MAPE: %.3f' % mape)\n",
        "print('Test MAE: %.3f' % mae)\n",
        "print('Test Madian_Absolute_Error: %.3f' % madianae)"
      ],
      "execution_count": null,
      "outputs": [
        {
          "output_type": "stream",
          "name": "stdout",
          "text": [
            "Test RMSE: 1.220\n",
            "Test MAPE: 0.186\n",
            "Test MAE: 1.219\n",
            "Test Madian_Absolute_Error: 1.222\n"
          ]
        }
      ]
    },
    {
      "cell_type": "code",
      "metadata": {
        "colab": {
          "base_uri": "https://localhost:8080/"
        },
        "id": "sFMZhb5JC3Cl",
        "outputId": "92c8ab84-573a-4291-c15a-45cfb95401a2"
      },
      "source": [
        "theta_Lxg = fit(Xdata_Lxg, y)\n",
        "print(theta_Lxg)"
      ],
      "execution_count": null,
      "outputs": [
        {
          "output_type": "stream",
          "name": "stdout",
          "text": [
            "[0.2462953  0.24638495 3.29944096]\n"
          ]
        },
        {
          "output_type": "stream",
          "name": "stderr",
          "text": [
            "/usr/local/lib/python3.7/dist-packages/ipykernel_launcher.py:25: RuntimeWarning:\n",
            "\n",
            "invalid value encountered in sqrt\n",
            "\n"
          ]
        }
      ]
    },
    {
      "cell_type": "code",
      "metadata": {
        "colab": {
          "base_uri": "https://localhost:8080/",
          "height": 295
        },
        "id": "7QgCUw1YDS6B",
        "outputId": "8d6db64f-aaf4-4007-8c52-04fdd5da1b36"
      },
      "source": [
        "y_after4 = np.dot(Xdata_Lxg,theta_Lxg.T )\n",
        "plt.plot(df_val['ds'],df_val['y'], color = 'red', label = 'Real exchange-rate')\n",
        "plt.plot(df_val['ds'],y_after4, color = 'blue', label = 'Predicted exchange-rate')\n",
        "plt.title('US-China Exchange Rate predict--Combined#4')\n",
        "plt.xlabel('Time')\n",
        "plt.ylabel('Exchange Rate')\n",
        "plt.legend()\n",
        "plt.show()"
      ],
      "execution_count": null,
      "outputs": [
        {
          "output_type": "display_data",
          "data": {
            "image/png": "[encoded data removed]",
            "text/plain": [
              "<Figure size 432x288 with 1 Axes>"
            ]
          },
          "metadata": {
            "needs_background": "light"
          }
        }
      ]
    },
    {
      "cell_type": "code",
      "metadata": {
        "colab": {
          "base_uri": "https://localhost:8080/"
        },
        "id": "L9uIKiJrDzz-",
        "outputId": "33569171-5690-4dcf-d009-5ed4bb97cc24"
      },
      "source": [
        "\n",
        "mae = mean_absolute_error(df_val['y'].values, y_after4)\n",
        "mape = mean_absolute_percentage_error(df_val['y'].values, y_after4)\n",
        "rmse = np.sqrt(mean_squared_error(df_val['y'].values, y_after4))\n",
        "madianae = median_absolute_error (df_val['y'].values, y_after4)\n",
        "print('Test RMSE: %.3f' % rmse)\n",
        "print('Test MAPE: %.3f' % mape)\n",
        "print('Test MAE: %.3f' % mae)\n",
        "print('Test Madian_Absolute_Error: %.3f' % madianae)"
      ],
      "execution_count": null,
      "outputs": [
        {
          "output_type": "stream",
          "name": "stdout",
          "text": [
            "Test RMSE: 0.111\n",
            "Test MAPE: 0.012\n",
            "Test MAE: 0.081\n",
            "Test Madian_Absolute_Error: 0.052\n"
          ]
        }
      ]
    },
    {
      "cell_type": "code",
      "metadata": {
        "id": "2aF_BwKFGNbK"
      },
      "source": [
        ""
      ],
      "execution_count": null,
      "outputs": []
    }
  ]
}